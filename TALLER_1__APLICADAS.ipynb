{
  "nbformat": 4,
  "nbformat_minor": 0,
  "metadata": {
    "colab": {
      "provenance": [],
      "include_colab_link": true
    },
    "kernelspec": {
      "name": "python3",
      "display_name": "Python 3"
    },
    "language_info": {
      "name": "python"
    }
  },
  "cells": [
    {
      "cell_type": "markdown",
      "metadata": {
        "id": "view-in-github",
        "colab_type": "text"
      },
      "source": [
        "<a href=\"https://colab.research.google.com/github/SamuelGranda/MatAplic1/blob/main/TALLER_1__APLICADAS.ipynb\" target=\"_parent\"><img src=\"https://colab.research.google.com/assets/colab-badge.svg\" alt=\"Open In Colab\"/></a>"
      ]
    },
    {
      "cell_type": "markdown",
      "source": [
        "#$Taller$ $De$ $Matematicas$ $Aplicadas$\n",
        "##Alejandro Rendón\n",
        "##Samuel Granda\n",
        "##Juan Camilo Criollo\n",
        "\n"
      ],
      "metadata": {
        "id": "ZEG1R5v_dEHn"
      }
    },
    {
      "cell_type": "markdown",
      "source": [
        "<img src= https://i.makeagif.com/media/1-25-2024/5x47Hv.gif \"200\" height=\"200\" align=\"center\">"
      ],
      "metadata": {
        "id": "EiAmBjiudbRS"
      }
    },
    {
      "cell_type": "markdown",
      "source": [
        "##Resolver los siguientes polinomios y compruebe con código\n",
        "\n",
        "###$[3(−5 + 10 + (−5)) − 2((−2) + (−4) + 10)]^2$\n",
        "\n",
        "\n"
      ],
      "metadata": {
        "id": "uWci4q76d_DF"
      }
    },
    {
      "source": [
        "\n",
        "x = int((3*(-5 + 10 + (-5)) - 2*((-2) + (-4) + 10))**2)\n",
        "print(x)"
      ],
      "cell_type": "code",
      "metadata": {
        "colab": {
          "base_uri": "https://localhost:8080/"
        },
        "id": "0GPykBPviQjI",
        "outputId": "4ab73ce0-581b-427e-82fc-d56b339f4bff"
      },
      "execution_count": null,
      "outputs": [
        {
          "output_type": "stream",
          "name": "stdout",
          "text": [
            "64\n"
          ]
        }
      ]
    },
    {
      "cell_type": "markdown",
      "source": [
        "###$45 + [3 (2 + 8) – $ $\\frac{8}{4}] + 10 − 83$"
      ],
      "metadata": {
        "id": "hW9qRscmjAG5"
      }
    },
    {
      "cell_type": "code",
      "source": [
        "x= int(45 + (3*(2+8) - (8/4) + 10 - 83))\n",
        "print(x)"
      ],
      "metadata": {
        "colab": {
          "base_uri": "https://localhost:8080/"
        },
        "id": "lNORfSeFjwcO",
        "outputId": "3b50c4f8-aa3d-4e82-cfb2-386c7d0db348"
      },
      "execution_count": null,
      "outputs": [
        {
          "output_type": "stream",
          "name": "stdout",
          "text": [
            "0\n"
          ]
        }
      ]
    },
    {
      "cell_type": "markdown",
      "source": [
        "###$[( −4 + 7)2 − 10](−4)–7 − 3$"
      ],
      "metadata": {
        "id": "YtmXf4kQj-Xg"
      }
    },
    {
      "cell_type": "code",
      "source": [
        "x=int(((((-4 + 7)*2) - 10) * (-4) - 7 - 3))\n",
        "print(x)"
      ],
      "metadata": {
        "colab": {
          "base_uri": "https://localhost:8080/"
        },
        "id": "IcYS7opLkIWk",
        "outputId": "c735c113-16e7-4bd3-ce3f-01fa78058c29"
      },
      "execution_count": null,
      "outputs": [
        {
          "output_type": "stream",
          "name": "stdout",
          "text": [
            "6\n"
          ]
        }
      ]
    },
    {
      "cell_type": "markdown",
      "source": [
        "## Combinacion de operaciones\n",
        "\n",
        "### $\\frac{1}{5}[(\\frac{1}{2})^2 + (\\frac{3}{4})^2] + \\frac{10}{25}[(\\frac{1}{2})^2+(\\frac{3}{4})^2]+\\frac{8}{40}[(\\frac{1}{2})^2+(\\frac{3}{4})^2]$"
      ],
      "metadata": {
        "id": "vGmcguH6kSr1"
      }
    },
    {
      "cell_type": "code",
      "source": [
        "x= int((1/5)*((1/2)**2 + (3/4)**2) + (10/25)*((1/2)**2 + (3/4)**2) + (8/40)*((1/2)**2 + (3/4)**2))\n",
        "print(x)"
      ],
      "metadata": {
        "colab": {
          "base_uri": "https://localhost:8080/"
        },
        "id": "MlFUxeicmDh3",
        "outputId": "585a973e-eb52-4d7d-a051-bc856bcf8bfc"
      },
      "execution_count": null,
      "outputs": [
        {
          "output_type": "stream",
          "name": "stdout",
          "text": [
            "0\n"
          ]
        }
      ]
    },
    {
      "cell_type": "markdown",
      "source": [
        "###$\\frac{9}{4}(\\frac{6}{8})^{-1}-\\frac{5}{2}(\\frac{25}{20}^{-1}+\\frac{40}{8}(\\frac{20}{16})^{-1}$"
      ],
      "metadata": {
        "id": "KeZAgQVmmLrG"
      }
    },
    {
      "cell_type": "code",
      "source": [
        "x= int((9/4)*(6/8)**-1 - (5/2)*(25/20)**-1 + (40/8)*(20/16)**-1)\n",
        "print(x)"
      ],
      "metadata": {
        "colab": {
          "base_uri": "https://localhost:8080/"
        },
        "id": "3eb3NRRmoRii",
        "outputId": "1138db07-c35b-40ca-d13a-a0df690e54f8"
      },
      "execution_count": null,
      "outputs": [
        {
          "output_type": "stream",
          "name": "stdout",
          "text": [
            "5\n"
          ]
        }
      ]
    },
    {
      "cell_type": "markdown",
      "source": [
        "\n",
        "##Transcripcion de funciones\n",
        "###Para cada una de las funciones dadas a continuacion, despeje la variable indicada y luego escriba la funcion despejada en LaTex\n"
      ],
      "metadata": {
        "id": "_LcmL5tPoQFK"
      }
    },
    {
      "cell_type": "markdown",
      "source": [
        "## $Area$ $lateral$ $de$ $un$ $cilindro$\n",
        "##$A=2πrg$\n",
        "\n",
        "### Variable a despejar\n",
        "###$r$\n",
        "\n",
        "\n",
        "###Formula despejada\n",
        "##$r=\\frac{A}{2πg}$\n",
        "\n",
        "_________________________________________________________________________"
      ],
      "metadata": {
        "id": "U8vsKw26pPMH"
      }
    },
    {
      "cell_type": "markdown",
      "source": [
        "##$Volumen$ $del$ $cono$\n",
        "## $V=\\frac{{A_g}\\cdot {h}}{3}$\n",
        "##Variable a despejar\n",
        "###$h$\n",
        "##Formula despejada\n",
        "###$h=\\frac{3V}{A_g}$\n",
        "____________________________________________\n",
        "\n"
      ],
      "metadata": {
        "id": "sfCXjc3Gp--v"
      }
    },
    {
      "cell_type": "markdown",
      "source": [
        "##$Volumen$ $de$ $la$ $esfera$\n",
        "## $V=\\frac{4}{3}⋅π⋅r^3$\n",
        "##Variable a despejar\n",
        "###$r$\n",
        "##Formula despejada\n",
        "###$r = \\sqrt[3]{\\frac{3V}{4 \\pi}}$\n",
        "\n",
        "______________________________________________________________"
      ],
      "metadata": {
        "id": "yEQMdppvrFb_"
      }
    },
    {
      "cell_type": "markdown",
      "source": [
        "##$Área$ $del$ $trapecio$\n",
        "## $A=\\frac{B + b}{2}·h$\n",
        "##Variable a despejar\n",
        "###$h$\n",
        "##Formula despejada\n",
        "###$h=\\frac{2A}{B+b}$\n",
        "____________________________________________"
      ],
      "metadata": {
        "id": "cfhWI-c7rrwL"
      }
    },
    {
      "cell_type": "markdown",
      "source": [
        "##$Intensidad$ $eléctrica$\n",
        "\n",
        "## $I=\\frac{q}{t}$\n",
        "##Variable a despejar\n",
        "###$t$\n",
        "##Formula despejada\n",
        "###$t = \\frac{q}{I}$\n",
        "\n",
        "____________________________________________"
      ],
      "metadata": {
        "id": "aK4Y2TVMsDQ2"
      }
    },
    {
      "cell_type": "markdown",
      "source": [
        "##$Ley$ $de$ $Ohm$\n",
        "##$I=\\frac{V}{R}$\n",
        "##Variable a despejar\n",
        "###$R$\n",
        "##Formula despejada\n",
        "###$R = \\frac{V}{I}$\n",
        "\n",
        "____________________________________________"
      ],
      "metadata": {
        "id": "nKudrk-ks72V"
      }
    },
    {
      "cell_type": "markdown",
      "source": [
        "##$Energia$ $Eléctrica$\n",
        "##$E=\\frac{V^2}{R}.t$\n",
        "##Variable a despejar\n",
        "###$t$\n",
        "##Formula despejada\n",
        "###$t = \\frac{E \\cdot R}{V^2}$\n",
        "\n",
        "__________________________________________________"
      ],
      "metadata": {
        "id": "QFPoXlVb0TTd"
      }
    },
    {
      "cell_type": "markdown",
      "source": [
        "##$Resistencias$ $en$ $paralelo$\n",
        "##$\\frac{1}{R}=\\frac{1}{R_1}+\\frac{1}{R_2}$\n",
        "##Variable a despejar\n",
        "###$R$\n",
        "##Formula despejada\n",
        "__________________________________________________"
      ],
      "metadata": {
        "id": "CGjKLaEF1HsP"
      }
    },
    {
      "cell_type": "markdown",
      "source": [
        "##$Ecuación$ $gases$ $perfectos$\n",
        "##$\\frac{P_0V_0}{T_0}=\\frac{P_fV_f}{T_f}$\n",
        "##Variable a despejar\n",
        "###$P_f$\n",
        "##Formula despejada\n",
        "__________________________________________________\n"
      ],
      "metadata": {
        "id": "W33Funza1vQW"
      }
    },
    {
      "cell_type": "markdown",
      "source": [
        "##$Intensidad$ $eléctrica$\n",
        "##$I=\\frac{V_A-V_B}{R}$\n",
        "##Variable a despejar\n",
        "###$V_B$\n",
        "##Formula despejada\n",
        "__________________________________________________"
      ],
      "metadata": {
        "id": "IY_SvqLO2gUw"
      }
    },
    {
      "cell_type": "markdown",
      "source": [
        "##$Punto$ $2$\n",
        "A continuacion se encuentran dos funciones a trozos, Transcribalas en Python y haga una lista de Valores aleatorios para que verificar la funcion. Determine para cada funcion su dominio."
      ],
      "metadata": {
        "id": "y9PE9qn_8RDJ"
      }
    },
    {
      "cell_type": "markdown",
      "source": [
        "$2.1$\n",
        "\n"
      ],
      "metadata": {
        "id": "9fSzcskP37Lc"
      }
    },
    {
      "cell_type": "code",
      "source": [
        "def f(x):\n",
        "  if x <-3:\n",
        "    return x+2\n",
        "  elif -3<= x <0\n",
        "    return -x\n",
        "  else x >=0\n",
        "    return 2\n"
      ],
      "metadata": {
        "id": "oWF44R-d5qIv"
      },
      "execution_count": null,
      "outputs": []
    },
    {
      "cell_type": "markdown",
      "source": [
        "### **3**\n",
        "\n",
        "# **Listas**"
      ],
      "metadata": {
        "id": "Zyf_o-9O4L_K"
      }
    },
    {
      "cell_type": "code",
      "source": [
        "import math\n",
        "\n",
        "def process_numbers(numbers):\n",
        "    # Crear listas vacías para los cuadrados, cubos y raíces\n",
        "    squares = []\n",
        "    cubes = []\n",
        "    square_roots = []\n",
        "\n",
        "\n",
        "    for num in numbers:\n",
        "\n",
        "        squares.append(num ** 2)\n",
        "\n",
        "        cubes.append(num ** 3)\n",
        "\n",
        "        if num >= 0:\n",
        "            root = math.sqrt(num)\n",
        "\n",
        "            if root.is_integer():\n",
        "                square_roots.append(int(root))\n",
        "            else:\n",
        "                square_roots.append(root)\n",
        "        else:\n",
        "            square_roots.append(None)\n",
        "    return squares, cubes, square_roots\n",
        "\n",
        "\n",
        "input_str = input(\"Introduce una lista de números enteros separados por comas: \")\n",
        "numbers = list(map(int, input_str.split(',')))\n",
        "squares, cubes, square_roots = process_numbers(numbers)\n",
        "\n",
        "\n",
        "print(\"Cuadrados:\", squares)\n",
        "print(\"Cubos:\", cubes)\n",
        "print(\"Raíces cuadradas:\", square_roots)\n",
        "\n"
      ],
      "metadata": {
        "colab": {
          "base_uri": "https://localhost:8080/"
        },
        "id": "OFUaL9gZ5_nb",
        "outputId": "38665040-85a6-42f0-aece-04e9ac67815e"
      },
      "execution_count": null,
      "outputs": [
        {
          "output_type": "stream",
          "name": "stdout",
          "text": [
            "Introduce una lista de números enteros separados por comas: 5,6,7\n",
            "Cuadrados: [25, 36, 49]\n",
            "Cubos: [125, 216, 343]\n",
            "Raíces cuadradas: [2.23606797749979, 2.449489742783178, 2.6457513110645907]\n"
          ]
        }
      ]
    }
  ]
}